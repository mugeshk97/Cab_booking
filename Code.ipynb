{
 "cells": [
  {
   "cell_type": "code",
   "execution_count": 68,
   "metadata": {},
   "outputs": [],
   "source": [
    "#import the libraries\n",
    "import numpy as np\n",
    "import pandas as pd\n",
    "import matplotlib.pyplot as plt\n",
    "from matplotlib import pyplot\n",
    "%matplotlib inline\n",
    "import seaborn as sns\n",
    "import datetime\n",
    "from sklearn.preprocessing import LabelEncoder\n",
    "from sklearn.model_selection import GridSearchCV\n",
    "from sklearn.metrics import r2_score,mean_squared_error\n",
    "from pylab import rcParams"
   ]
  },
  {
   "cell_type": "code",
   "execution_count": 69,
   "metadata": {},
   "outputs": [],
   "source": [
    "#Reading the files\n",
    "train=pd.read_csv('Study/Mid Project -1/Dataset/train.csv')\n",
    "test=pd.read_csv('Study/Mid Project -1/Dataset/test.csv')\n",
    "train_label=pd.read_csv('Study/Mid Project -1/Dataset/train_label.csv',header=None)\n",
    "test_label=pd.read_csv('Study/Mid Project -1/Dataset/test_label.csv',header=None)"
   ]
  },
  {
   "cell_type": "code",
   "execution_count": 70,
   "metadata": {},
   "outputs": [],
   "source": [
    "#  combining the indepedent and target variables\n",
    "train['totalbooking']=train_label\n",
    "test['totalbooking']=test_label"
   ]
  },
  {
   "cell_type": "code",
   "execution_count": 71,
   "metadata": {},
   "outputs": [
    {
     "name": "stdout",
     "output_type": "stream",
     "text": [
      "(8708, 10)\n",
      "(2178, 10)\n"
     ]
    }
   ],
   "source": [
    "print(train.shape)\n",
    "print(test.shape)"
   ]
  },
  {
   "cell_type": "markdown",
   "metadata": {},
   "source": [
    "# Feature Engineering"
   ]
  },
  {
   "cell_type": "code",
   "execution_count": 72,
   "metadata": {},
   "outputs": [
    {
     "data": {
      "text/html": [
       "<div>\n",
       "<style scoped>\n",
       "    .dataframe tbody tr th:only-of-type {\n",
       "        vertical-align: middle;\n",
       "    }\n",
       "\n",
       "    .dataframe tbody tr th {\n",
       "        vertical-align: top;\n",
       "    }\n",
       "\n",
       "    .dataframe thead th {\n",
       "        text-align: right;\n",
       "    }\n",
       "</style>\n",
       "<table border=\"1\" class=\"dataframe\">\n",
       "  <thead>\n",
       "    <tr style=\"text-align: right;\">\n",
       "      <th></th>\n",
       "      <th>datetime</th>\n",
       "      <th>season</th>\n",
       "      <th>holiday</th>\n",
       "      <th>workingday</th>\n",
       "      <th>weather</th>\n",
       "      <th>temp</th>\n",
       "      <th>atemp</th>\n",
       "      <th>humidity</th>\n",
       "      <th>windspeed</th>\n",
       "      <th>totalbooking</th>\n",
       "      <th>date</th>\n",
       "      <th>hour</th>\n",
       "    </tr>\n",
       "  </thead>\n",
       "  <tbody>\n",
       "    <tr>\n",
       "      <th>2422</th>\n",
       "      <td>2/9/2011 9:00</td>\n",
       "      <td>Spring</td>\n",
       "      <td>0</td>\n",
       "      <td>1</td>\n",
       "      <td>Clear + Few clouds</td>\n",
       "      <td>4.92</td>\n",
       "      <td>6.820</td>\n",
       "      <td>39</td>\n",
       "      <td>11.0014</td>\n",
       "      <td>123</td>\n",
       "      <td>2/9/2011</td>\n",
       "      <td>9</td>\n",
       "    </tr>\n",
       "    <tr>\n",
       "      <th>6637</th>\n",
       "      <td>3/2/2012 14:00</td>\n",
       "      <td>Spring</td>\n",
       "      <td>0</td>\n",
       "      <td>1</td>\n",
       "      <td>Mist + Cloudy</td>\n",
       "      <td>18.04</td>\n",
       "      <td>21.970</td>\n",
       "      <td>44</td>\n",
       "      <td>19.0012</td>\n",
       "      <td>205</td>\n",
       "      <td>3/2/2012</td>\n",
       "      <td>14</td>\n",
       "    </tr>\n",
       "    <tr>\n",
       "      <th>2675</th>\n",
       "      <td>7/6/2011 21:00</td>\n",
       "      <td>Fall</td>\n",
       "      <td>0</td>\n",
       "      <td>1</td>\n",
       "      <td>Clear + Few clouds</td>\n",
       "      <td>28.70</td>\n",
       "      <td>33.335</td>\n",
       "      <td>79</td>\n",
       "      <td>12.9980</td>\n",
       "      <td>241</td>\n",
       "      <td>7/6/2011</td>\n",
       "      <td>21</td>\n",
       "    </tr>\n",
       "  </tbody>\n",
       "</table>\n",
       "</div>"
      ],
      "text/plain": [
       "            datetime  season  holiday  workingday              weather   temp  \\\n",
       "2422   2/9/2011 9:00  Spring        0           1   Clear + Few clouds   4.92   \n",
       "6637  3/2/2012 14:00  Spring        0           1       Mist + Cloudy   18.04   \n",
       "2675  7/6/2011 21:00    Fall        0           1   Clear + Few clouds  28.70   \n",
       "\n",
       "       atemp  humidity  windspeed  totalbooking      date hour  \n",
       "2422   6.820        39    11.0014           123  2/9/2011    9  \n",
       "6637  21.970        44    19.0012           205  3/2/2012   14  \n",
       "2675  33.335        79    12.9980           241  7/6/2011   21  "
      ]
     },
     "execution_count": 72,
     "metadata": {},
     "output_type": "execute_result"
    }
   ],
   "source": [
    "# datetime seperation into date and hour columns\n",
    "train['date']=train.datetime.apply(lambda x:x.split()[0])\n",
    "train['hour']=train.datetime.apply(lambda x:x.split()[1].split(':')[0])\n",
    "test['date']=test.datetime.apply(lambda x:x.split()[0])\n",
    "test['hour']=test.datetime.apply(lambda x:x.split()[1].split(':')[0])\n",
    "train.sample(3)"
   ]
  },
  {
   "cell_type": "code",
   "execution_count": 73,
   "metadata": {},
   "outputs": [
    {
     "data": {
      "text/html": [
       "<div>\n",
       "<style scoped>\n",
       "    .dataframe tbody tr th:only-of-type {\n",
       "        vertical-align: middle;\n",
       "    }\n",
       "\n",
       "    .dataframe tbody tr th {\n",
       "        vertical-align: top;\n",
       "    }\n",
       "\n",
       "    .dataframe thead th {\n",
       "        text-align: right;\n",
       "    }\n",
       "</style>\n",
       "<table border=\"1\" class=\"dataframe\">\n",
       "  <thead>\n",
       "    <tr style=\"text-align: right;\">\n",
       "      <th></th>\n",
       "      <th>datetime</th>\n",
       "      <th>season</th>\n",
       "      <th>holiday</th>\n",
       "      <th>workingday</th>\n",
       "      <th>weather</th>\n",
       "      <th>temp</th>\n",
       "      <th>atemp</th>\n",
       "      <th>humidity</th>\n",
       "      <th>windspeed</th>\n",
       "      <th>totalbooking</th>\n",
       "      <th>date</th>\n",
       "      <th>hour</th>\n",
       "    </tr>\n",
       "  </thead>\n",
       "  <tbody>\n",
       "    <tr>\n",
       "      <th>8208</th>\n",
       "      <td>9/9/2012 5:00</td>\n",
       "      <td>Fall</td>\n",
       "      <td>0</td>\n",
       "      <td>0</td>\n",
       "      <td>Clear + Few clouds</td>\n",
       "      <td>21.32</td>\n",
       "      <td>25.000</td>\n",
       "      <td>77</td>\n",
       "      <td>12.9980</td>\n",
       "      <td>55</td>\n",
       "      <td>2012-09-09</td>\n",
       "      <td>5</td>\n",
       "    </tr>\n",
       "    <tr>\n",
       "      <th>2468</th>\n",
       "      <td>6/16/2011 7:00</td>\n",
       "      <td>Summer</td>\n",
       "      <td>0</td>\n",
       "      <td>1</td>\n",
       "      <td>Light Snow, Light Rain</td>\n",
       "      <td>22.96</td>\n",
       "      <td>26.515</td>\n",
       "      <td>78</td>\n",
       "      <td>11.0014</td>\n",
       "      <td>188</td>\n",
       "      <td>2011-06-16</td>\n",
       "      <td>7</td>\n",
       "    </tr>\n",
       "    <tr>\n",
       "      <th>2053</th>\n",
       "      <td>8/6/2012 19:00</td>\n",
       "      <td>Fall</td>\n",
       "      <td>0</td>\n",
       "      <td>1</td>\n",
       "      <td>Clear + Few clouds</td>\n",
       "      <td>31.98</td>\n",
       "      <td>37.120</td>\n",
       "      <td>59</td>\n",
       "      <td>12.9980</td>\n",
       "      <td>640</td>\n",
       "      <td>2012-08-06</td>\n",
       "      <td>19</td>\n",
       "    </tr>\n",
       "  </tbody>\n",
       "</table>\n",
       "</div>"
      ],
      "text/plain": [
       "            datetime  season  holiday  workingday                  weather  \\\n",
       "8208   9/9/2012 5:00    Fall        0           0       Clear + Few clouds   \n",
       "2468  6/16/2011 7:00  Summer        0           1   Light Snow, Light Rain   \n",
       "2053  8/6/2012 19:00    Fall        0           1       Clear + Few clouds   \n",
       "\n",
       "       temp   atemp  humidity  windspeed  totalbooking       date hour  \n",
       "8208  21.32  25.000        77    12.9980            55 2012-09-09    5  \n",
       "2468  22.96  26.515        78    11.0014           188 2011-06-16    7  \n",
       "2053  31.98  37.120        59    12.9980           640 2012-08-06   19  "
      ]
     },
     "execution_count": 73,
     "metadata": {},
     "output_type": "execute_result"
    }
   ],
   "source": [
    "# date column from object to datetime series\n",
    "train['date']=pd.to_datetime(train['date'])\n",
    "test['date']=pd.to_datetime(test['date'])\n",
    "train.sample(3)"
   ]
  },
  {
   "cell_type": "code",
   "execution_count": 74,
   "metadata": {},
   "outputs": [
    {
     "data": {
      "text/html": [
       "<div>\n",
       "<style scoped>\n",
       "    .dataframe tbody tr th:only-of-type {\n",
       "        vertical-align: middle;\n",
       "    }\n",
       "\n",
       "    .dataframe tbody tr th {\n",
       "        vertical-align: top;\n",
       "    }\n",
       "\n",
       "    .dataframe thead th {\n",
       "        text-align: right;\n",
       "    }\n",
       "</style>\n",
       "<table border=\"1\" class=\"dataframe\">\n",
       "  <thead>\n",
       "    <tr style=\"text-align: right;\">\n",
       "      <th></th>\n",
       "      <th>datetime</th>\n",
       "      <th>season</th>\n",
       "      <th>holiday</th>\n",
       "      <th>workingday</th>\n",
       "      <th>weather</th>\n",
       "      <th>temp</th>\n",
       "      <th>atemp</th>\n",
       "      <th>humidity</th>\n",
       "      <th>windspeed</th>\n",
       "      <th>totalbooking</th>\n",
       "      <th>date</th>\n",
       "      <th>hour</th>\n",
       "      <th>month</th>\n",
       "      <th>weekday</th>\n",
       "      <th>year</th>\n",
       "    </tr>\n",
       "  </thead>\n",
       "  <tbody>\n",
       "    <tr>\n",
       "      <th>1035</th>\n",
       "      <td>11/6/2011 20:00</td>\n",
       "      <td>Winter</td>\n",
       "      <td>0</td>\n",
       "      <td>0</td>\n",
       "      <td>Clear + Few clouds</td>\n",
       "      <td>14.76</td>\n",
       "      <td>18.180</td>\n",
       "      <td>81</td>\n",
       "      <td>7.0015</td>\n",
       "      <td>116</td>\n",
       "      <td>2011-11-06</td>\n",
       "      <td>20</td>\n",
       "      <td>11</td>\n",
       "      <td>6</td>\n",
       "      <td>2011</td>\n",
       "    </tr>\n",
       "    <tr>\n",
       "      <th>3308</th>\n",
       "      <td>5/4/2011 5:00</td>\n",
       "      <td>Summer</td>\n",
       "      <td>0</td>\n",
       "      <td>1</td>\n",
       "      <td>Light Snow, Light Rain</td>\n",
       "      <td>14.76</td>\n",
       "      <td>16.665</td>\n",
       "      <td>87</td>\n",
       "      <td>22.0028</td>\n",
       "      <td>9</td>\n",
       "      <td>2011-05-04</td>\n",
       "      <td>5</td>\n",
       "      <td>5</td>\n",
       "      <td>2</td>\n",
       "      <td>2011</td>\n",
       "    </tr>\n",
       "    <tr>\n",
       "      <th>69</th>\n",
       "      <td>1/9/2012 5:00</td>\n",
       "      <td>Spring</td>\n",
       "      <td>0</td>\n",
       "      <td>1</td>\n",
       "      <td>Mist + Cloudy</td>\n",
       "      <td>8.20</td>\n",
       "      <td>11.365</td>\n",
       "      <td>64</td>\n",
       "      <td>6.0032</td>\n",
       "      <td>21</td>\n",
       "      <td>2012-01-09</td>\n",
       "      <td>5</td>\n",
       "      <td>1</td>\n",
       "      <td>0</td>\n",
       "      <td>2012</td>\n",
       "    </tr>\n",
       "  </tbody>\n",
       "</table>\n",
       "</div>"
      ],
      "text/plain": [
       "             datetime  season  holiday  workingday                  weather  \\\n",
       "1035  11/6/2011 20:00  Winter        0           0       Clear + Few clouds   \n",
       "3308    5/4/2011 5:00  Summer        0           1   Light Snow, Light Rain   \n",
       "69      1/9/2012 5:00  Spring        0           1           Mist + Cloudy    \n",
       "\n",
       "       temp   atemp  humidity  windspeed  totalbooking       date hour  month  \\\n",
       "1035  14.76  18.180        81     7.0015           116 2011-11-06   20     11   \n",
       "3308  14.76  16.665        87    22.0028             9 2011-05-04    5      5   \n",
       "69     8.20  11.365        64     6.0032            21 2012-01-09    5      1   \n",
       "\n",
       "      weekday  year  \n",
       "1035        6  2011  \n",
       "3308        2  2011  \n",
       "69          0  2012  "
      ]
     },
     "execution_count": 74,
     "metadata": {},
     "output_type": "execute_result"
    }
   ],
   "source": [
    "# seperating month,weekday amd year from the date column\n",
    "train['month'] = train['date'].dt.month\n",
    "train['weekday'] = train['date'].dt.weekday\n",
    "test['month'] = test['date'].dt.month\n",
    "test['weekday'] = test['date'].dt.weekday\n",
    "train['year'] = train['date'].dt.year\n",
    "test['year'] = test['date'].dt.year\n",
    "train.sample(3)"
   ]
  },
  {
   "cell_type": "code",
   "execution_count": 75,
   "metadata": {},
   "outputs": [
    {
     "data": {
      "text/html": [
       "<div>\n",
       "<style scoped>\n",
       "    .dataframe tbody tr th:only-of-type {\n",
       "        vertical-align: middle;\n",
       "    }\n",
       "\n",
       "    .dataframe tbody tr th {\n",
       "        vertical-align: top;\n",
       "    }\n",
       "\n",
       "    .dataframe thead th {\n",
       "        text-align: right;\n",
       "    }\n",
       "</style>\n",
       "<table border=\"1\" class=\"dataframe\">\n",
       "  <thead>\n",
       "    <tr style=\"text-align: right;\">\n",
       "      <th></th>\n",
       "      <th>datetime</th>\n",
       "      <th>season</th>\n",
       "      <th>holiday</th>\n",
       "      <th>workingday</th>\n",
       "      <th>weather</th>\n",
       "      <th>temp</th>\n",
       "      <th>atemp</th>\n",
       "      <th>humidity</th>\n",
       "      <th>windspeed</th>\n",
       "      <th>totalbooking</th>\n",
       "      <th>date</th>\n",
       "      <th>hour</th>\n",
       "      <th>month</th>\n",
       "      <th>weekday</th>\n",
       "      <th>year</th>\n",
       "    </tr>\n",
       "  </thead>\n",
       "  <tbody>\n",
       "    <tr>\n",
       "      <th>1008</th>\n",
       "      <td>8/2/2012 17:00</td>\n",
       "      <td>Fall</td>\n",
       "      <td>0</td>\n",
       "      <td>1</td>\n",
       "      <td>Clear + Few clouds</td>\n",
       "      <td>33.62</td>\n",
       "      <td>38.635</td>\n",
       "      <td>52</td>\n",
       "      <td>16.9979</td>\n",
       "      <td>865</td>\n",
       "      <td>2012-08-02</td>\n",
       "      <td>17</td>\n",
       "      <td>8</td>\n",
       "      <td>3</td>\n",
       "      <td>2012</td>\n",
       "    </tr>\n",
       "    <tr>\n",
       "      <th>2592</th>\n",
       "      <td>3/4/2012 9:00</td>\n",
       "      <td>Spring</td>\n",
       "      <td>0</td>\n",
       "      <td>0</td>\n",
       "      <td>Clear + Few clouds</td>\n",
       "      <td>12.30</td>\n",
       "      <td>13.635</td>\n",
       "      <td>49</td>\n",
       "      <td>30.0026</td>\n",
       "      <td>118</td>\n",
       "      <td>2012-03-04</td>\n",
       "      <td>9</td>\n",
       "      <td>3</td>\n",
       "      <td>6</td>\n",
       "      <td>2012</td>\n",
       "    </tr>\n",
       "    <tr>\n",
       "      <th>1230</th>\n",
       "      <td>12/4/2011 13:00</td>\n",
       "      <td>Winter</td>\n",
       "      <td>0</td>\n",
       "      <td>0</td>\n",
       "      <td>Clear + Few clouds</td>\n",
       "      <td>16.40</td>\n",
       "      <td>20.455</td>\n",
       "      <td>66</td>\n",
       "      <td>15.0013</td>\n",
       "      <td>357</td>\n",
       "      <td>2011-12-04</td>\n",
       "      <td>13</td>\n",
       "      <td>12</td>\n",
       "      <td>6</td>\n",
       "      <td>2011</td>\n",
       "    </tr>\n",
       "  </tbody>\n",
       "</table>\n",
       "</div>"
      ],
      "text/plain": [
       "             datetime  season  holiday  workingday              weather  \\\n",
       "1008   8/2/2012 17:00    Fall        0           1   Clear + Few clouds   \n",
       "2592    3/4/2012 9:00  Spring        0           0   Clear + Few clouds   \n",
       "1230  12/4/2011 13:00  Winter        0           0   Clear + Few clouds   \n",
       "\n",
       "       temp   atemp  humidity  windspeed  totalbooking       date  hour  \\\n",
       "1008  33.62  38.635        52    16.9979           865 2012-08-02    17   \n",
       "2592  12.30  13.635        49    30.0026           118 2012-03-04     9   \n",
       "1230  16.40  20.455        66    15.0013           357 2011-12-04    13   \n",
       "\n",
       "      month  weekday  year  \n",
       "1008      8        3  2012  \n",
       "2592      3        6  2012  \n",
       "1230     12        6  2011  "
      ]
     },
     "execution_count": 75,
     "metadata": {},
     "output_type": "execute_result"
    }
   ],
   "source": [
    "#changing the hour data type\n",
    "train['hour']=train['hour'].astype(int)\n",
    "test['hour']=test['hour'].astype(int)\n",
    "train.sample(3)"
   ]
  },
  {
   "cell_type": "code",
   "execution_count": 76,
   "metadata": {},
   "outputs": [
    {
     "data": {
      "text/html": [
       "<div>\n",
       "<style scoped>\n",
       "    .dataframe tbody tr th:only-of-type {\n",
       "        vertical-align: middle;\n",
       "    }\n",
       "\n",
       "    .dataframe tbody tr th {\n",
       "        vertical-align: top;\n",
       "    }\n",
       "\n",
       "    .dataframe thead th {\n",
       "        text-align: right;\n",
       "    }\n",
       "</style>\n",
       "<table border=\"1\" class=\"dataframe\">\n",
       "  <thead>\n",
       "    <tr style=\"text-align: right;\">\n",
       "      <th></th>\n",
       "      <th>season</th>\n",
       "      <th>holiday</th>\n",
       "      <th>workingday</th>\n",
       "      <th>weather</th>\n",
       "      <th>temp</th>\n",
       "      <th>atemp</th>\n",
       "      <th>humidity</th>\n",
       "      <th>windspeed</th>\n",
       "      <th>totalbooking</th>\n",
       "      <th>date</th>\n",
       "      <th>hour</th>\n",
       "      <th>month</th>\n",
       "      <th>weekday</th>\n",
       "      <th>year</th>\n",
       "    </tr>\n",
       "  </thead>\n",
       "  <tbody>\n",
       "    <tr>\n",
       "      <th>6079</th>\n",
       "      <td>Summer</td>\n",
       "      <td>0</td>\n",
       "      <td>1</td>\n",
       "      <td>Clear + Few clouds</td>\n",
       "      <td>22.14</td>\n",
       "      <td>25.760</td>\n",
       "      <td>30</td>\n",
       "      <td>16.9979</td>\n",
       "      <td>162</td>\n",
       "      <td>2012-04-17</td>\n",
       "      <td>22</td>\n",
       "      <td>4</td>\n",
       "      <td>1</td>\n",
       "      <td>2012</td>\n",
       "    </tr>\n",
       "    <tr>\n",
       "      <th>833</th>\n",
       "      <td>Winter</td>\n",
       "      <td>0</td>\n",
       "      <td>1</td>\n",
       "      <td>Clear + Few clouds</td>\n",
       "      <td>12.30</td>\n",
       "      <td>16.665</td>\n",
       "      <td>56</td>\n",
       "      <td>0.0000</td>\n",
       "      <td>213</td>\n",
       "      <td>2012-11-14</td>\n",
       "      <td>21</td>\n",
       "      <td>11</td>\n",
       "      <td>2</td>\n",
       "      <td>2012</td>\n",
       "    </tr>\n",
       "    <tr>\n",
       "      <th>5450</th>\n",
       "      <td>Summer</td>\n",
       "      <td>0</td>\n",
       "      <td>1</td>\n",
       "      <td>Clear + Few clouds</td>\n",
       "      <td>26.24</td>\n",
       "      <td>30.305</td>\n",
       "      <td>23</td>\n",
       "      <td>16.9979</td>\n",
       "      <td>503</td>\n",
       "      <td>2012-05-11</td>\n",
       "      <td>19</td>\n",
       "      <td>5</td>\n",
       "      <td>4</td>\n",
       "      <td>2012</td>\n",
       "    </tr>\n",
       "  </tbody>\n",
       "</table>\n",
       "</div>"
      ],
      "text/plain": [
       "      season  holiday  workingday              weather   temp   atemp  \\\n",
       "6079  Summer        0           1   Clear + Few clouds  22.14  25.760   \n",
       "833   Winter        0           1   Clear + Few clouds  12.30  16.665   \n",
       "5450  Summer        0           1   Clear + Few clouds  26.24  30.305   \n",
       "\n",
       "      humidity  windspeed  totalbooking       date  hour  month  weekday  year  \n",
       "6079        30    16.9979           162 2012-04-17    22      4        1  2012  \n",
       "833         56     0.0000           213 2012-11-14    21     11        2  2012  \n",
       "5450        23    16.9979           503 2012-05-11    19      5        4  2012  "
      ]
     },
     "execution_count": 76,
     "metadata": {},
     "output_type": "execute_result"
    }
   ],
   "source": [
    "# drop datatime column\n",
    "train=train.drop('datetime',axis=1)\n",
    "test=test.drop('datetime',axis=1)\n",
    "train.sample(3)"
   ]
  },
  {
   "cell_type": "code",
   "execution_count": 77,
   "metadata": {},
   "outputs": [
    {
     "data": {
      "text/html": [
       "<div>\n",
       "<style scoped>\n",
       "    .dataframe tbody tr th:only-of-type {\n",
       "        vertical-align: middle;\n",
       "    }\n",
       "\n",
       "    .dataframe tbody tr th {\n",
       "        vertical-align: top;\n",
       "    }\n",
       "\n",
       "    .dataframe thead th {\n",
       "        text-align: right;\n",
       "    }\n",
       "</style>\n",
       "<table border=\"1\" class=\"dataframe\">\n",
       "  <thead>\n",
       "    <tr style=\"text-align: right;\">\n",
       "      <th></th>\n",
       "      <th>season</th>\n",
       "      <th>holiday</th>\n",
       "      <th>workingday</th>\n",
       "      <th>weather</th>\n",
       "      <th>temp</th>\n",
       "      <th>atemp</th>\n",
       "      <th>humidity</th>\n",
       "      <th>windspeed</th>\n",
       "      <th>totalbooking</th>\n",
       "      <th>date</th>\n",
       "      <th>hour</th>\n",
       "      <th>month</th>\n",
       "      <th>weekday</th>\n",
       "      <th>year</th>\n",
       "      <th>weather1</th>\n",
       "      <th>weather2</th>\n",
       "    </tr>\n",
       "  </thead>\n",
       "  <tbody>\n",
       "    <tr>\n",
       "      <th>669</th>\n",
       "      <td>Winter</td>\n",
       "      <td>0</td>\n",
       "      <td>1</td>\n",
       "      <td>Mist + Cloudy</td>\n",
       "      <td>20.50</td>\n",
       "      <td>24.24</td>\n",
       "      <td>55</td>\n",
       "      <td>11.0014</td>\n",
       "      <td>309</td>\n",
       "      <td>2011-10-17</td>\n",
       "      <td>7</td>\n",
       "      <td>10</td>\n",
       "      <td>0</td>\n",
       "      <td>2011</td>\n",
       "      <td>Mist</td>\n",
       "      <td>Cloudy</td>\n",
       "    </tr>\n",
       "    <tr>\n",
       "      <th>5612</th>\n",
       "      <td>Spring</td>\n",
       "      <td>0</td>\n",
       "      <td>1</td>\n",
       "      <td>Mist + Cloudy</td>\n",
       "      <td>7.38</td>\n",
       "      <td>9.85</td>\n",
       "      <td>93</td>\n",
       "      <td>11.0014</td>\n",
       "      <td>83</td>\n",
       "      <td>2012-01-10</td>\n",
       "      <td>10</td>\n",
       "      <td>1</td>\n",
       "      <td>1</td>\n",
       "      <td>2012</td>\n",
       "      <td>Mist</td>\n",
       "      <td>Cloudy</td>\n",
       "    </tr>\n",
       "    <tr>\n",
       "      <th>3357</th>\n",
       "      <td>Summer</td>\n",
       "      <td>0</td>\n",
       "      <td>1</td>\n",
       "      <td>Mist + Cloudy</td>\n",
       "      <td>27.06</td>\n",
       "      <td>31.06</td>\n",
       "      <td>50</td>\n",
       "      <td>12.9980</td>\n",
       "      <td>357</td>\n",
       "      <td>2012-05-09</td>\n",
       "      <td>16</td>\n",
       "      <td>5</td>\n",
       "      <td>2</td>\n",
       "      <td>2012</td>\n",
       "      <td>Mist</td>\n",
       "      <td>Cloudy</td>\n",
       "    </tr>\n",
       "  </tbody>\n",
       "</table>\n",
       "</div>"
      ],
      "text/plain": [
       "      season  holiday  workingday          weather   temp  atemp  humidity  \\\n",
       "669   Winter        0           1   Mist + Cloudy   20.50  24.24        55   \n",
       "5612  Spring        0           1   Mist + Cloudy    7.38   9.85        93   \n",
       "3357  Summer        0           1   Mist + Cloudy   27.06  31.06        50   \n",
       "\n",
       "      windspeed  totalbooking       date  hour  month  weekday  year weather1  \\\n",
       "669     11.0014           309 2011-10-17     7     10        0  2011    Mist    \n",
       "5612    11.0014            83 2012-01-10    10      1        1  2012    Mist    \n",
       "3357    12.9980           357 2012-05-09    16      5        2  2012    Mist    \n",
       "\n",
       "      weather2  \n",
       "669    Cloudy   \n",
       "5612   Cloudy   \n",
       "3357   Cloudy   "
      ]
     },
     "execution_count": 77,
     "metadata": {},
     "output_type": "execute_result"
    }
   ],
   "source": [
    "#seperation of weather into two columns\n",
    "train[['weather1','weather2']] = train[\"weather\"].str.split('[+|,]',n =1, expand = True)\n",
    "test[['weather1','weather2']] = test[\"weather\"].str.split('[+|,]',n =1, expand = True)\n",
    "train.sample(3)"
   ]
  },
  {
   "cell_type": "code",
   "execution_count": 78,
   "metadata": {},
   "outputs": [
    {
     "data": {
      "text/html": [
       "<div>\n",
       "<style scoped>\n",
       "    .dataframe tbody tr th:only-of-type {\n",
       "        vertical-align: middle;\n",
       "    }\n",
       "\n",
       "    .dataframe tbody tr th {\n",
       "        vertical-align: top;\n",
       "    }\n",
       "\n",
       "    .dataframe thead th {\n",
       "        text-align: right;\n",
       "    }\n",
       "</style>\n",
       "<table border=\"1\" class=\"dataframe\">\n",
       "  <thead>\n",
       "    <tr style=\"text-align: right;\">\n",
       "      <th></th>\n",
       "      <th>season</th>\n",
       "      <th>holiday</th>\n",
       "      <th>workingday</th>\n",
       "      <th>temp</th>\n",
       "      <th>atemp</th>\n",
       "      <th>humidity</th>\n",
       "      <th>windspeed</th>\n",
       "      <th>totalbooking</th>\n",
       "      <th>date</th>\n",
       "      <th>hour</th>\n",
       "      <th>month</th>\n",
       "      <th>weekday</th>\n",
       "      <th>year</th>\n",
       "      <th>weather1</th>\n",
       "      <th>weather2</th>\n",
       "    </tr>\n",
       "  </thead>\n",
       "  <tbody>\n",
       "    <tr>\n",
       "      <th>5681</th>\n",
       "      <td>Spring</td>\n",
       "      <td>0</td>\n",
       "      <td>1</td>\n",
       "      <td>6.56</td>\n",
       "      <td>7.575</td>\n",
       "      <td>93</td>\n",
       "      <td>12.9980</td>\n",
       "      <td>32</td>\n",
       "      <td>2011-01-11</td>\n",
       "      <td>20</td>\n",
       "      <td>1</td>\n",
       "      <td>1</td>\n",
       "      <td>2011</td>\n",
       "      <td>Light Snow</td>\n",
       "      <td>Light Rain</td>\n",
       "    </tr>\n",
       "    <tr>\n",
       "      <th>7411</th>\n",
       "      <td>Winter</td>\n",
       "      <td>0</td>\n",
       "      <td>1</td>\n",
       "      <td>20.50</td>\n",
       "      <td>24.240</td>\n",
       "      <td>31</td>\n",
       "      <td>7.0015</td>\n",
       "      <td>291</td>\n",
       "      <td>2012-10-11</td>\n",
       "      <td>13</td>\n",
       "      <td>10</td>\n",
       "      <td>3</td>\n",
       "      <td>2012</td>\n",
       "      <td>Clear</td>\n",
       "      <td>Few clouds</td>\n",
       "    </tr>\n",
       "    <tr>\n",
       "      <th>1421</th>\n",
       "      <td>Winter</td>\n",
       "      <td>0</td>\n",
       "      <td>1</td>\n",
       "      <td>10.66</td>\n",
       "      <td>15.150</td>\n",
       "      <td>70</td>\n",
       "      <td>0.0000</td>\n",
       "      <td>71</td>\n",
       "      <td>2011-12-12</td>\n",
       "      <td>22</td>\n",
       "      <td>12</td>\n",
       "      <td>0</td>\n",
       "      <td>2011</td>\n",
       "      <td>Clear</td>\n",
       "      <td>Few clouds</td>\n",
       "    </tr>\n",
       "  </tbody>\n",
       "</table>\n",
       "</div>"
      ],
      "text/plain": [
       "      season  holiday  workingday   temp   atemp  humidity  windspeed  \\\n",
       "5681  Spring        0           1   6.56   7.575        93    12.9980   \n",
       "7411  Winter        0           1  20.50  24.240        31     7.0015   \n",
       "1421  Winter        0           1  10.66  15.150        70     0.0000   \n",
       "\n",
       "      totalbooking       date  hour  month  weekday  year     weather1  \\\n",
       "5681            32 2011-01-11    20      1        1  2011   Light Snow   \n",
       "7411           291 2012-10-11    13     10        3  2012       Clear    \n",
       "1421            71 2011-12-12    22     12        0  2011       Clear    \n",
       "\n",
       "         weather2  \n",
       "5681   Light Rain  \n",
       "7411   Few clouds  \n",
       "1421   Few clouds  "
      ]
     },
     "execution_count": 78,
     "metadata": {},
     "output_type": "execute_result"
    }
   ],
   "source": [
    "# drop the weather column\n",
    "train=train.drop('weather',axis=1)\n",
    "test=test.drop('weather',axis=1)\n",
    "train.sample(3)"
   ]
  },
  {
   "cell_type": "code",
   "execution_count": 79,
   "metadata": {},
   "outputs": [
    {
     "data": {
      "text/html": [
       "<div>\n",
       "<style scoped>\n",
       "    .dataframe tbody tr th:only-of-type {\n",
       "        vertical-align: middle;\n",
       "    }\n",
       "\n",
       "    .dataframe tbody tr th {\n",
       "        vertical-align: top;\n",
       "    }\n",
       "\n",
       "    .dataframe thead th {\n",
       "        text-align: right;\n",
       "    }\n",
       "</style>\n",
       "<table border=\"1\" class=\"dataframe\">\n",
       "  <thead>\n",
       "    <tr style=\"text-align: right;\">\n",
       "      <th></th>\n",
       "      <th>season</th>\n",
       "      <th>holiday</th>\n",
       "      <th>workingday</th>\n",
       "      <th>temp</th>\n",
       "      <th>atemp</th>\n",
       "      <th>humidity</th>\n",
       "      <th>windspeed</th>\n",
       "      <th>totalbooking</th>\n",
       "      <th>date</th>\n",
       "      <th>hour</th>\n",
       "      <th>month</th>\n",
       "      <th>weekday</th>\n",
       "      <th>year</th>\n",
       "      <th>weather1</th>\n",
       "      <th>weather2</th>\n",
       "    </tr>\n",
       "  </thead>\n",
       "  <tbody>\n",
       "    <tr>\n",
       "      <th>887</th>\n",
       "      <td>Fall</td>\n",
       "      <td>0</td>\n",
       "      <td>1</td>\n",
       "      <td>36.90</td>\n",
       "      <td>41.665</td>\n",
       "      <td>39</td>\n",
       "      <td>22.0028</td>\n",
       "      <td>607</td>\n",
       "      <td>2012-07-05</td>\n",
       "      <td>18</td>\n",
       "      <td>7</td>\n",
       "      <td>3</td>\n",
       "      <td>2012</td>\n",
       "      <td>Mist</td>\n",
       "      <td>Cloudy</td>\n",
       "    </tr>\n",
       "    <tr>\n",
       "      <th>3305</th>\n",
       "      <td>Summer</td>\n",
       "      <td>0</td>\n",
       "      <td>1</td>\n",
       "      <td>22.96</td>\n",
       "      <td>26.515</td>\n",
       "      <td>73</td>\n",
       "      <td>19.9995</td>\n",
       "      <td>538</td>\n",
       "      <td>2012-06-06</td>\n",
       "      <td>19</td>\n",
       "      <td>6</td>\n",
       "      <td>2</td>\n",
       "      <td>2012</td>\n",
       "      <td>Clear</td>\n",
       "      <td>Few clouds</td>\n",
       "    </tr>\n",
       "    <tr>\n",
       "      <th>4386</th>\n",
       "      <td>Summer</td>\n",
       "      <td>0</td>\n",
       "      <td>1</td>\n",
       "      <td>22.96</td>\n",
       "      <td>26.515</td>\n",
       "      <td>94</td>\n",
       "      <td>19.9995</td>\n",
       "      <td>54</td>\n",
       "      <td>2011-05-18</td>\n",
       "      <td>12</td>\n",
       "      <td>5</td>\n",
       "      <td>2</td>\n",
       "      <td>2011</td>\n",
       "      <td>Clear</td>\n",
       "      <td>Few clouds</td>\n",
       "    </tr>\n",
       "  </tbody>\n",
       "</table>\n",
       "</div>"
      ],
      "text/plain": [
       "      season  holiday  workingday   temp   atemp  humidity  windspeed  \\\n",
       "887     Fall        0           1  36.90  41.665        39    22.0028   \n",
       "3305  Summer        0           1  22.96  26.515        73    19.9995   \n",
       "4386  Summer        0           1  22.96  26.515        94    19.9995   \n",
       "\n",
       "      totalbooking       date  hour  month  weekday  year weather1  \\\n",
       "887            607 2012-07-05    18      7        3  2012    Mist    \n",
       "3305           538 2012-06-06    19      6        2  2012   Clear    \n",
       "4386            54 2011-05-18    12      5        2  2011   Clear    \n",
       "\n",
       "         weather2  \n",
       "887       Cloudy   \n",
       "3305   Few clouds  \n",
       "4386   Few clouds  "
      ]
     },
     "execution_count": 79,
     "metadata": {},
     "output_type": "execute_result"
    }
   ],
   "source": [
    "#removing the holiday and workingday that are same  \n",
    "train = train.loc[(train['holiday'] == 0) & (train['workingday'] != 0)] \n",
    "test = test.loc[(test['holiday'] == 0) & (test['workingday'] != 0)] \n",
    "train.reset_index(drop=True, inplace=True)\n",
    "test.reset_index(drop=True, inplace=True)\n",
    "train.sample(3)"
   ]
  },
  {
   "cell_type": "code",
   "execution_count": 80,
   "metadata": {},
   "outputs": [],
   "source": [
    "# some data of windspeed has no values filling those values with mean\n",
    "#train['windspeed']=train['windspeed'].replace(to_replace=0.0000,value=train['windspeed'].mean())\n",
    "#test['windspeed']=test['windspeed'].replace(to_replace=0.0000,value=test['windspeed'].mean())\n",
    "#train.sample(3)"
   ]
  },
  {
   "cell_type": "code",
   "execution_count": 81,
   "metadata": {},
   "outputs": [
    {
     "data": {
      "text/html": [
       "<div>\n",
       "<style scoped>\n",
       "    .dataframe tbody tr th:only-of-type {\n",
       "        vertical-align: middle;\n",
       "    }\n",
       "\n",
       "    .dataframe tbody tr th {\n",
       "        vertical-align: top;\n",
       "    }\n",
       "\n",
       "    .dataframe thead th {\n",
       "        text-align: right;\n",
       "    }\n",
       "</style>\n",
       "<table border=\"1\" class=\"dataframe\">\n",
       "  <thead>\n",
       "    <tr style=\"text-align: right;\">\n",
       "      <th></th>\n",
       "      <th>season</th>\n",
       "      <th>holiday</th>\n",
       "      <th>workingday</th>\n",
       "      <th>temp</th>\n",
       "      <th>atemp</th>\n",
       "      <th>humidity</th>\n",
       "      <th>windspeed</th>\n",
       "      <th>totalbooking</th>\n",
       "      <th>hour</th>\n",
       "      <th>month</th>\n",
       "      <th>weekday</th>\n",
       "      <th>year</th>\n",
       "      <th>weather1</th>\n",
       "      <th>weather2</th>\n",
       "    </tr>\n",
       "  </thead>\n",
       "  <tbody>\n",
       "    <tr>\n",
       "      <th>923</th>\n",
       "      <td>Winter</td>\n",
       "      <td>0</td>\n",
       "      <td>1</td>\n",
       "      <td>18.86</td>\n",
       "      <td>22.725</td>\n",
       "      <td>82</td>\n",
       "      <td>8.9981</td>\n",
       "      <td>5</td>\n",
       "      <td>3</td>\n",
       "      <td>12</td>\n",
       "      <td>4</td>\n",
       "      <td>2011</td>\n",
       "      <td>Clear</td>\n",
       "      <td>Few clouds</td>\n",
       "    </tr>\n",
       "    <tr>\n",
       "      <th>1594</th>\n",
       "      <td>Fall</td>\n",
       "      <td>0</td>\n",
       "      <td>1</td>\n",
       "      <td>33.62</td>\n",
       "      <td>34.850</td>\n",
       "      <td>23</td>\n",
       "      <td>12.9980</td>\n",
       "      <td>303</td>\n",
       "      <td>14</td>\n",
       "      <td>7</td>\n",
       "      <td>4</td>\n",
       "      <td>2011</td>\n",
       "      <td>Clear</td>\n",
       "      <td>Few clouds</td>\n",
       "    </tr>\n",
       "    <tr>\n",
       "      <th>1072</th>\n",
       "      <td>Winter</td>\n",
       "      <td>0</td>\n",
       "      <td>1</td>\n",
       "      <td>13.94</td>\n",
       "      <td>16.665</td>\n",
       "      <td>49</td>\n",
       "      <td>12.9980</td>\n",
       "      <td>178</td>\n",
       "      <td>21</td>\n",
       "      <td>11</td>\n",
       "      <td>4</td>\n",
       "      <td>2012</td>\n",
       "      <td>Clear</td>\n",
       "      <td>Few clouds</td>\n",
       "    </tr>\n",
       "  </tbody>\n",
       "</table>\n",
       "</div>"
      ],
      "text/plain": [
       "      season  holiday  workingday   temp   atemp  humidity  windspeed  \\\n",
       "923   Winter        0           1  18.86  22.725        82     8.9981   \n",
       "1594    Fall        0           1  33.62  34.850        23    12.9980   \n",
       "1072  Winter        0           1  13.94  16.665        49    12.9980   \n",
       "\n",
       "      totalbooking  hour  month  weekday  year weather1     weather2  \n",
       "923              5     3     12        4  2011   Clear    Few clouds  \n",
       "1594           303    14      7        4  2011   Clear    Few clouds  \n",
       "1072           178    21     11        4  2012   Clear    Few clouds  "
      ]
     },
     "execution_count": 81,
     "metadata": {},
     "output_type": "execute_result"
    }
   ],
   "source": [
    "# date column is not need because we are have those info in other columns\n",
    "train=train.drop('date',axis=1)\n",
    "test=test.drop('date',axis=1)\n",
    "train.sample(3)"
   ]
  },
  {
   "cell_type": "code",
   "execution_count": 82,
   "metadata": {},
   "outputs": [
    {
     "name": "stdout",
     "output_type": "stream",
     "text": [
      "0.9797856252890171\n"
     ]
    },
    {
     "data": {
      "text/html": [
       "<div>\n",
       "<style scoped>\n",
       "    .dataframe tbody tr th:only-of-type {\n",
       "        vertical-align: middle;\n",
       "    }\n",
       "\n",
       "    .dataframe tbody tr th {\n",
       "        vertical-align: top;\n",
       "    }\n",
       "\n",
       "    .dataframe thead th {\n",
       "        text-align: right;\n",
       "    }\n",
       "</style>\n",
       "<table border=\"1\" class=\"dataframe\">\n",
       "  <thead>\n",
       "    <tr style=\"text-align: right;\">\n",
       "      <th></th>\n",
       "      <th>season</th>\n",
       "      <th>holiday</th>\n",
       "      <th>workingday</th>\n",
       "      <th>atemp</th>\n",
       "      <th>humidity</th>\n",
       "      <th>windspeed</th>\n",
       "      <th>totalbooking</th>\n",
       "      <th>hour</th>\n",
       "      <th>month</th>\n",
       "      <th>weekday</th>\n",
       "      <th>year</th>\n",
       "      <th>weather1</th>\n",
       "      <th>weather2</th>\n",
       "    </tr>\n",
       "  </thead>\n",
       "  <tbody>\n",
       "    <tr>\n",
       "      <th>17</th>\n",
       "      <td>Fall</td>\n",
       "      <td>0</td>\n",
       "      <td>1</td>\n",
       "      <td>34.85</td>\n",
       "      <td>74</td>\n",
       "      <td>7.0015</td>\n",
       "      <td>224</td>\n",
       "      <td>22</td>\n",
       "      <td>8</td>\n",
       "      <td>1</td>\n",
       "      <td>2012</td>\n",
       "      <td>Clear</td>\n",
       "      <td>Few clouds</td>\n",
       "    </tr>\n",
       "    <tr>\n",
       "      <th>2997</th>\n",
       "      <td>Winter</td>\n",
       "      <td>0</td>\n",
       "      <td>1</td>\n",
       "      <td>9.09</td>\n",
       "      <td>86</td>\n",
       "      <td>7.0015</td>\n",
       "      <td>68</td>\n",
       "      <td>6</td>\n",
       "      <td>12</td>\n",
       "      <td>0</td>\n",
       "      <td>2011</td>\n",
       "      <td>Clear</td>\n",
       "      <td>Few clouds</td>\n",
       "    </tr>\n",
       "    <tr>\n",
       "      <th>3585</th>\n",
       "      <td>Summer</td>\n",
       "      <td>0</td>\n",
       "      <td>1</td>\n",
       "      <td>21.21</td>\n",
       "      <td>67</td>\n",
       "      <td>12.9980</td>\n",
       "      <td>99</td>\n",
       "      <td>22</td>\n",
       "      <td>4</td>\n",
       "      <td>2</td>\n",
       "      <td>2011</td>\n",
       "      <td>Clear</td>\n",
       "      <td>Few clouds</td>\n",
       "    </tr>\n",
       "  </tbody>\n",
       "</table>\n",
       "</div>"
      ],
      "text/plain": [
       "      season  holiday  workingday  atemp  humidity  windspeed  totalbooking  \\\n",
       "17      Fall        0           1  34.85        74     7.0015           224   \n",
       "2997  Winter        0           1   9.09        86     7.0015            68   \n",
       "3585  Summer        0           1  21.21        67    12.9980            99   \n",
       "\n",
       "      hour  month  weekday  year weather1     weather2  \n",
       "17      22      8        1  2012   Clear    Few clouds  \n",
       "2997     6     12        0  2011   Clear    Few clouds  \n",
       "3585    22      4        2  2011   Clear    Few clouds  "
      ]
     },
     "execution_count": 82,
     "metadata": {},
     "output_type": "execute_result"
    }
   ],
   "source": [
    "# the temp and actual temp as high correlation we can remove any one of them\n",
    "print(train['temp'].corr(train['atemp']))\n",
    "train=train.drop('temp',axis=1)\n",
    "test=test.drop('temp',axis=1)\n",
    "train.sample(3)"
   ]
  },
  {
   "cell_type": "code",
   "execution_count": 83,
   "metadata": {},
   "outputs": [
    {
     "name": "stdout",
     "output_type": "stream",
     "text": [
      "(5924, 13)\n",
      "(1488, 13)\n"
     ]
    }
   ],
   "source": [
    "print(train.shape)\n",
    "print(test.shape)"
   ]
  },
  {
   "cell_type": "markdown",
   "metadata": {},
   "source": [
    "# Outlier analysis"
   ]
  },
  {
   "cell_type": "code",
   "execution_count": 84,
   "metadata": {},
   "outputs": [
    {
     "data": {
      "text/html": [
       "<div>\n",
       "<style scoped>\n",
       "    .dataframe tbody tr th:only-of-type {\n",
       "        vertical-align: middle;\n",
       "    }\n",
       "\n",
       "    .dataframe tbody tr th {\n",
       "        vertical-align: top;\n",
       "    }\n",
       "\n",
       "    .dataframe thead th {\n",
       "        text-align: right;\n",
       "    }\n",
       "</style>\n",
       "<table border=\"1\" class=\"dataframe\">\n",
       "  <thead>\n",
       "    <tr style=\"text-align: right;\">\n",
       "      <th></th>\n",
       "      <th>holiday</th>\n",
       "      <th>workingday</th>\n",
       "      <th>atemp</th>\n",
       "      <th>humidity</th>\n",
       "      <th>windspeed</th>\n",
       "      <th>totalbooking</th>\n",
       "      <th>hour</th>\n",
       "      <th>month</th>\n",
       "      <th>weekday</th>\n",
       "      <th>year</th>\n",
       "    </tr>\n",
       "  </thead>\n",
       "  <tbody>\n",
       "    <tr>\n",
       "      <th>count</th>\n",
       "      <td>5924.0</td>\n",
       "      <td>5924.0</td>\n",
       "      <td>5924.000000</td>\n",
       "      <td>5924.000000</td>\n",
       "      <td>5924.000000</td>\n",
       "      <td>5924.000000</td>\n",
       "      <td>5924.000000</td>\n",
       "      <td>5924.000000</td>\n",
       "      <td>5924.000000</td>\n",
       "      <td>5924.000000</td>\n",
       "    </tr>\n",
       "    <tr>\n",
       "      <th>mean</th>\n",
       "      <td>0.0</td>\n",
       "      <td>1.0</td>\n",
       "      <td>23.808046</td>\n",
       "      <td>61.527009</td>\n",
       "      <td>12.917074</td>\n",
       "      <td>194.535955</td>\n",
       "      <td>11.589298</td>\n",
       "      <td>6.525321</td>\n",
       "      <td>2.043552</td>\n",
       "      <td>2011.502870</td>\n",
       "    </tr>\n",
       "    <tr>\n",
       "      <th>std</th>\n",
       "      <td>0.0</td>\n",
       "      <td>0.0</td>\n",
       "      <td>8.436218</td>\n",
       "      <td>19.248119</td>\n",
       "      <td>8.174576</td>\n",
       "      <td>184.835890</td>\n",
       "      <td>6.867819</td>\n",
       "      <td>3.412820</td>\n",
       "      <td>1.390664</td>\n",
       "      <td>0.500034</td>\n",
       "    </tr>\n",
       "    <tr>\n",
       "      <th>min</th>\n",
       "      <td>0.0</td>\n",
       "      <td>1.0</td>\n",
       "      <td>0.760000</td>\n",
       "      <td>0.000000</td>\n",
       "      <td>0.000000</td>\n",
       "      <td>1.000000</td>\n",
       "      <td>0.000000</td>\n",
       "      <td>1.000000</td>\n",
       "      <td>0.000000</td>\n",
       "      <td>2011.000000</td>\n",
       "    </tr>\n",
       "    <tr>\n",
       "      <th>25%</th>\n",
       "      <td>0.0</td>\n",
       "      <td>1.0</td>\n",
       "      <td>16.665000</td>\n",
       "      <td>47.000000</td>\n",
       "      <td>7.001500</td>\n",
       "      <td>43.000000</td>\n",
       "      <td>6.000000</td>\n",
       "      <td>4.000000</td>\n",
       "      <td>1.000000</td>\n",
       "      <td>2011.000000</td>\n",
       "    </tr>\n",
       "    <tr>\n",
       "      <th>50%</th>\n",
       "      <td>0.0</td>\n",
       "      <td>1.0</td>\n",
       "      <td>24.240000</td>\n",
       "      <td>61.000000</td>\n",
       "      <td>12.998000</td>\n",
       "      <td>153.000000</td>\n",
       "      <td>12.000000</td>\n",
       "      <td>6.000000</td>\n",
       "      <td>2.000000</td>\n",
       "      <td>2012.000000</td>\n",
       "    </tr>\n",
       "    <tr>\n",
       "      <th>75%</th>\n",
       "      <td>0.0</td>\n",
       "      <td>1.0</td>\n",
       "      <td>31.060000</td>\n",
       "      <td>77.000000</td>\n",
       "      <td>19.001200</td>\n",
       "      <td>280.000000</td>\n",
       "      <td>17.000000</td>\n",
       "      <td>9.000000</td>\n",
       "      <td>3.000000</td>\n",
       "      <td>2012.000000</td>\n",
       "    </tr>\n",
       "    <tr>\n",
       "      <th>max</th>\n",
       "      <td>0.0</td>\n",
       "      <td>1.0</td>\n",
       "      <td>43.940000</td>\n",
       "      <td>100.000000</td>\n",
       "      <td>51.998700</td>\n",
       "      <td>977.000000</td>\n",
       "      <td>23.000000</td>\n",
       "      <td>12.000000</td>\n",
       "      <td>4.000000</td>\n",
       "      <td>2012.000000</td>\n",
       "    </tr>\n",
       "  </tbody>\n",
       "</table>\n",
       "</div>"
      ],
      "text/plain": [
       "       holiday  workingday        atemp     humidity    windspeed  \\\n",
       "count   5924.0      5924.0  5924.000000  5924.000000  5924.000000   \n",
       "mean       0.0         1.0    23.808046    61.527009    12.917074   \n",
       "std        0.0         0.0     8.436218    19.248119     8.174576   \n",
       "min        0.0         1.0     0.760000     0.000000     0.000000   \n",
       "25%        0.0         1.0    16.665000    47.000000     7.001500   \n",
       "50%        0.0         1.0    24.240000    61.000000    12.998000   \n",
       "75%        0.0         1.0    31.060000    77.000000    19.001200   \n",
       "max        0.0         1.0    43.940000   100.000000    51.998700   \n",
       "\n",
       "       totalbooking         hour        month      weekday         year  \n",
       "count   5924.000000  5924.000000  5924.000000  5924.000000  5924.000000  \n",
       "mean     194.535955    11.589298     6.525321     2.043552  2011.502870  \n",
       "std      184.835890     6.867819     3.412820     1.390664     0.500034  \n",
       "min        1.000000     0.000000     1.000000     0.000000  2011.000000  \n",
       "25%       43.000000     6.000000     4.000000     1.000000  2011.000000  \n",
       "50%      153.000000    12.000000     6.000000     2.000000  2012.000000  \n",
       "75%      280.000000    17.000000     9.000000     3.000000  2012.000000  \n",
       "max      977.000000    23.000000    12.000000     4.000000  2012.000000  "
      ]
     },
     "execution_count": 84,
     "metadata": {},
     "output_type": "execute_result"
    }
   ],
   "source": [
    "train.describe()"
   ]
  },
  {
   "cell_type": "code",
   "execution_count": 85,
   "metadata": {},
   "outputs": [],
   "source": [
    "rcParams['figure.figsize'] = 16,8 # fixing the size for all plots"
   ]
  },
  {
   "cell_type": "code",
   "execution_count": 86,
   "metadata": {},
   "outputs": [
    {
     "data": {
      "image/png": "[encoded data removed]",
      "text/plain": [
       "<Figure size 1152x576 with 1 Axes>"
      ]
     },
     "metadata": {
      "needs_background": "light"
     },
     "output_type": "display_data"
    }
   ],
   "source": [
    "train.boxplot()\n",
    "plt.title('Before Removing the Outliers')\n",
    "plt.show()"
   ]
  },
  {
   "cell_type": "code",
   "execution_count": 87,
   "metadata": {},
   "outputs": [],
   "source": [
    "Q1 = train.quantile(0.15)\n",
    "Q3 = train.quantile(0.75)\n",
    "IQR = Q3 - Q1\n",
    "train = train[~((train < (Q1 - 1.5 * IQR)) |(train > (Q3 + 1.5 * IQR))).any(axis=1)]\n",
    "Q1t = test.quantile(0.15)\n",
    "Q3t = test.quantile(0.75)\n",
    "IQRt = Q3t - Q1t\n",
    "test = test[~((test < (Q1t - 1.5 * IQRt)) |(test > (Q3t + 1.5 * IQRt))).any(axis=1)]"
   ]
  },
  {
   "cell_type": "code",
   "execution_count": 88,
   "metadata": {},
   "outputs": [
    {
     "data": {
      "image/png": "[encoded data removed]",
      "text/plain": [
       "<Figure size 1152x576 with 1 Axes>"
      ]
     },
     "metadata": {
      "needs_background": "light"
     },
     "output_type": "display_data"
    }
   ],
   "source": [
    "train.boxplot()\n",
    "plt.title('After Removing the Outliers')\n",
    "plt.show()"
   ]
  },
  {
   "cell_type": "code",
   "execution_count": 89,
   "metadata": {},
   "outputs": [
    {
     "data": {
      "text/html": [
       "<div>\n",
       "<style scoped>\n",
       "    .dataframe tbody tr th:only-of-type {\n",
       "        vertical-align: middle;\n",
       "    }\n",
       "\n",
       "    .dataframe tbody tr th {\n",
       "        vertical-align: top;\n",
       "    }\n",
       "\n",
       "    .dataframe thead th {\n",
       "        text-align: right;\n",
       "    }\n",
       "</style>\n",
       "<table border=\"1\" class=\"dataframe\">\n",
       "  <thead>\n",
       "    <tr style=\"text-align: right;\">\n",
       "      <th></th>\n",
       "      <th>holiday</th>\n",
       "      <th>workingday</th>\n",
       "      <th>atemp</th>\n",
       "      <th>humidity</th>\n",
       "      <th>windspeed</th>\n",
       "      <th>totalbooking</th>\n",
       "      <th>hour</th>\n",
       "      <th>month</th>\n",
       "      <th>weekday</th>\n",
       "      <th>year</th>\n",
       "    </tr>\n",
       "  </thead>\n",
       "  <tbody>\n",
       "    <tr>\n",
       "      <th>count</th>\n",
       "      <td>5727.0</td>\n",
       "      <td>5727.0</td>\n",
       "      <td>5727.000000</td>\n",
       "      <td>5727.000000</td>\n",
       "      <td>5727.000000</td>\n",
       "      <td>5727.000000</td>\n",
       "      <td>5727.000000</td>\n",
       "      <td>5727.000000</td>\n",
       "      <td>5727.000000</td>\n",
       "      <td>5727.000000</td>\n",
       "    </tr>\n",
       "    <tr>\n",
       "      <th>mean</th>\n",
       "      <td>0.0</td>\n",
       "      <td>1.0</td>\n",
       "      <td>23.629732</td>\n",
       "      <td>61.835865</td>\n",
       "      <td>12.761601</td>\n",
       "      <td>177.407369</td>\n",
       "      <td>11.468483</td>\n",
       "      <td>6.508294</td>\n",
       "      <td>2.049240</td>\n",
       "      <td>2011.488214</td>\n",
       "    </tr>\n",
       "    <tr>\n",
       "      <th>std</th>\n",
       "      <td>0.0</td>\n",
       "      <td>0.0</td>\n",
       "      <td>8.414844</td>\n",
       "      <td>19.213180</td>\n",
       "      <td>7.942817</td>\n",
       "      <td>156.775847</td>\n",
       "      <td>6.906289</td>\n",
       "      <td>3.432533</td>\n",
       "      <td>1.392066</td>\n",
       "      <td>0.499905</td>\n",
       "    </tr>\n",
       "    <tr>\n",
       "      <th>min</th>\n",
       "      <td>0.0</td>\n",
       "      <td>1.0</td>\n",
       "      <td>0.760000</td>\n",
       "      <td>0.000000</td>\n",
       "      <td>0.000000</td>\n",
       "      <td>1.000000</td>\n",
       "      <td>0.000000</td>\n",
       "      <td>1.000000</td>\n",
       "      <td>0.000000</td>\n",
       "      <td>2011.000000</td>\n",
       "    </tr>\n",
       "    <tr>\n",
       "      <th>25%</th>\n",
       "      <td>0.0</td>\n",
       "      <td>1.0</td>\n",
       "      <td>16.665000</td>\n",
       "      <td>47.000000</td>\n",
       "      <td>7.001500</td>\n",
       "      <td>40.000000</td>\n",
       "      <td>6.000000</td>\n",
       "      <td>4.000000</td>\n",
       "      <td>1.000000</td>\n",
       "      <td>2011.000000</td>\n",
       "    </tr>\n",
       "    <tr>\n",
       "      <th>50%</th>\n",
       "      <td>0.0</td>\n",
       "      <td>1.0</td>\n",
       "      <td>24.240000</td>\n",
       "      <td>61.000000</td>\n",
       "      <td>12.998000</td>\n",
       "      <td>147.000000</td>\n",
       "      <td>11.000000</td>\n",
       "      <td>6.000000</td>\n",
       "      <td>2.000000</td>\n",
       "      <td>2011.000000</td>\n",
       "    </tr>\n",
       "    <tr>\n",
       "      <th>75%</th>\n",
       "      <td>0.0</td>\n",
       "      <td>1.0</td>\n",
       "      <td>31.060000</td>\n",
       "      <td>77.000000</td>\n",
       "      <td>16.997900</td>\n",
       "      <td>266.000000</td>\n",
       "      <td>17.000000</td>\n",
       "      <td>10.000000</td>\n",
       "      <td>3.000000</td>\n",
       "      <td>2012.000000</td>\n",
       "    </tr>\n",
       "    <tr>\n",
       "      <th>max</th>\n",
       "      <td>0.0</td>\n",
       "      <td>1.0</td>\n",
       "      <td>43.940000</td>\n",
       "      <td>100.000000</td>\n",
       "      <td>36.997400</td>\n",
       "      <td>679.000000</td>\n",
       "      <td>23.000000</td>\n",
       "      <td>12.000000</td>\n",
       "      <td>4.000000</td>\n",
       "      <td>2012.000000</td>\n",
       "    </tr>\n",
       "  </tbody>\n",
       "</table>\n",
       "</div>"
      ],
      "text/plain": [
       "       holiday  workingday        atemp     humidity    windspeed  \\\n",
       "count   5727.0      5727.0  5727.000000  5727.000000  5727.000000   \n",
       "mean       0.0         1.0    23.629732    61.835865    12.761601   \n",
       "std        0.0         0.0     8.414844    19.213180     7.942817   \n",
       "min        0.0         1.0     0.760000     0.000000     0.000000   \n",
       "25%        0.0         1.0    16.665000    47.000000     7.001500   \n",
       "50%        0.0         1.0    24.240000    61.000000    12.998000   \n",
       "75%        0.0         1.0    31.060000    77.000000    16.997900   \n",
       "max        0.0         1.0    43.940000   100.000000    36.997400   \n",
       "\n",
       "       totalbooking         hour        month      weekday         year  \n",
       "count   5727.000000  5727.000000  5727.000000  5727.000000  5727.000000  \n",
       "mean     177.407369    11.468483     6.508294     2.049240  2011.488214  \n",
       "std      156.775847     6.906289     3.432533     1.392066     0.499905  \n",
       "min        1.000000     0.000000     1.000000     0.000000  2011.000000  \n",
       "25%       40.000000     6.000000     4.000000     1.000000  2011.000000  \n",
       "50%      147.000000    11.000000     6.000000     2.000000  2011.000000  \n",
       "75%      266.000000    17.000000    10.000000     3.000000  2012.000000  \n",
       "max      679.000000    23.000000    12.000000     4.000000  2012.000000  "
      ]
     },
     "execution_count": 89,
     "metadata": {},
     "output_type": "execute_result"
    }
   ],
   "source": [
    "train.describe()"
   ]
  },
  {
   "cell_type": "code",
   "execution_count": 90,
   "metadata": {},
   "outputs": [
    {
     "name": "stdout",
     "output_type": "stream",
     "text": [
      "(5727, 13)\n",
      "(1422, 13)\n"
     ]
    }
   ],
   "source": [
    "print(train.shape)\n",
    "print(test.shape)"
   ]
  },
  {
   "cell_type": "markdown",
   "metadata": {},
   "source": [
    "# Correlation Analysis"
   ]
  },
  {
   "cell_type": "code",
   "execution_count": 91,
   "metadata": {},
   "outputs": [
    {
     "data": {
      "text/plain": [
       "<matplotlib.axes._subplots.AxesSubplot at 0x189ecf353c8>"
      ]
     },
     "execution_count": 91,
     "metadata": {},
     "output_type": "execute_result"
    },
    {
     "data": {
      "image/png": "[encoded data removed]",
      "text/plain": [
       "<Figure size 1152x576 with 2 Axes>"
      ]
     },
     "metadata": {
      "needs_background": "light"
     },
     "output_type": "display_data"
    }
   ],
   "source": [
    "corrmat = train.corr()\n",
    "top_corr_features = corrmat.index\n",
    "sns.heatmap(train[top_corr_features].corr(),annot=True,cmap='coolwarm')"
   ]
  },
  {
   "cell_type": "code",
   "execution_count": 92,
   "metadata": {},
   "outputs": [
    {
     "data": {
      "text/html": [
       "<div>\n",
       "<style scoped>\n",
       "    .dataframe tbody tr th:only-of-type {\n",
       "        vertical-align: middle;\n",
       "    }\n",
       "\n",
       "    .dataframe tbody tr th {\n",
       "        vertical-align: top;\n",
       "    }\n",
       "\n",
       "    .dataframe thead th {\n",
       "        text-align: right;\n",
       "    }\n",
       "</style>\n",
       "<table border=\"1\" class=\"dataframe\">\n",
       "  <thead>\n",
       "    <tr style=\"text-align: right;\">\n",
       "      <th></th>\n",
       "      <th>season</th>\n",
       "      <th>atemp</th>\n",
       "      <th>humidity</th>\n",
       "      <th>windspeed</th>\n",
       "      <th>totalbooking</th>\n",
       "      <th>hour</th>\n",
       "      <th>month</th>\n",
       "      <th>weekday</th>\n",
       "      <th>year</th>\n",
       "      <th>weather1</th>\n",
       "      <th>weather2</th>\n",
       "    </tr>\n",
       "  </thead>\n",
       "  <tbody>\n",
       "    <tr>\n",
       "      <th>5088</th>\n",
       "      <td>Spring</td>\n",
       "      <td>9.850</td>\n",
       "      <td>51</td>\n",
       "      <td>11.0014</td>\n",
       "      <td>15</td>\n",
       "      <td>23</td>\n",
       "      <td>1</td>\n",
       "      <td>4</td>\n",
       "      <td>2011</td>\n",
       "      <td>Mist</td>\n",
       "      <td>Cloudy</td>\n",
       "    </tr>\n",
       "    <tr>\n",
       "      <th>4526</th>\n",
       "      <td>Winter</td>\n",
       "      <td>26.515</td>\n",
       "      <td>43</td>\n",
       "      <td>11.0014</td>\n",
       "      <td>270</td>\n",
       "      <td>14</td>\n",
       "      <td>10</td>\n",
       "      <td>2</td>\n",
       "      <td>2012</td>\n",
       "      <td>Mist</td>\n",
       "      <td>Cloudy</td>\n",
       "    </tr>\n",
       "    <tr>\n",
       "      <th>1599</th>\n",
       "      <td>Winter</td>\n",
       "      <td>31.060</td>\n",
       "      <td>41</td>\n",
       "      <td>0.0000</td>\n",
       "      <td>270</td>\n",
       "      <td>15</td>\n",
       "      <td>10</td>\n",
       "      <td>4</td>\n",
       "      <td>2011</td>\n",
       "      <td>Clear</td>\n",
       "      <td>Few clouds</td>\n",
       "    </tr>\n",
       "  </tbody>\n",
       "</table>\n",
       "</div>"
      ],
      "text/plain": [
       "      season   atemp  humidity  windspeed  totalbooking  hour  month  weekday  \\\n",
       "5088  Spring   9.850        51    11.0014            15    23      1        4   \n",
       "4526  Winter  26.515        43    11.0014           270    14     10        2   \n",
       "1599  Winter  31.060        41     0.0000           270    15     10        4   \n",
       "\n",
       "      year weather1     weather2  \n",
       "5088  2011    Mist       Cloudy   \n",
       "4526  2012    Mist       Cloudy   \n",
       "1599  2011   Clear    Few clouds  "
      ]
     },
     "execution_count": 92,
     "metadata": {},
     "output_type": "execute_result"
    }
   ],
   "source": [
    "# as there is no correlation in holiday and weekday \n",
    "# date column is not need because we are have those info in other columns\n",
    "train=train.drop(['holiday','workingday'],axis=1)\n",
    "test=test.drop(['holiday','workingday'],axis=1)\n",
    "train.sample(3)"
   ]
  },
  {
   "cell_type": "markdown",
   "metadata": {},
   "source": [
    "# Visualizing the data"
   ]
  },
  {
   "cell_type": "code",
   "execution_count": 93,
   "metadata": {},
   "outputs": [
    {
     "data": {
      "image/png": "[encoded data removed]",
      "text/plain": [
       "<Figure size 720x504 with 1 Axes>"
      ]
     },
     "metadata": {
      "needs_background": "light"
     },
     "output_type": "display_data"
    }
   ],
   "source": [
    "plt.figure(figsize=(10,7))\n",
    "sns.barplot(x='season',y='totalbooking',data=train)\n",
    "plt.title('Booking to Season Analysis')\n",
    "plt.show()"
   ]
  },
  {
   "cell_type": "code",
   "execution_count": 94,
   "metadata": {},
   "outputs": [
    {
     "data": {
      "image/png": "[encoded data removed]",
      "text/plain": [
       "<Figure size 1152x576 with 1 Axes>"
      ]
     },
     "metadata": {
      "needs_background": "light"
     },
     "output_type": "display_data"
    }
   ],
   "source": [
    "sns.pointplot(x='month',y='totalbooking',data=train,kind='line',ci=False)\n",
    "plt.title('Booking to Month Analysis')\n",
    "plt.show()"
   ]
  },
  {
   "cell_type": "code",
   "execution_count": 95,
   "metadata": {},
   "outputs": [
    {
     "data": {
      "image/png": "[encoded data removed]",
      "text/plain": [
       "<Figure size 504x504 with 1 Axes>"
      ]
     },
     "metadata": {},
     "output_type": "display_data"
    }
   ],
   "source": [
    "labels=train.weather1.unique().tolist()\n",
    "colors=['cyan','orange','lightgreen','black']\n",
    "values=train['weather1'].value_counts().values\n",
    "#visualization\n",
    "plt.figure(figsize=(7,7))\n",
    "plt.pie(values,labels=labels,colors=colors,autopct='%1.1f%%')\n",
    "plt.title('Total Bookings to weather1 Analysis')\n",
    "plt.show()"
   ]
  },
  {
   "cell_type": "code",
   "execution_count": 96,
   "metadata": {},
   "outputs": [
    {
     "data": {
      "image/png": "[encoded data removed]",
      "text/plain": [
       "<Figure size 1152x576 with 1 Axes>"
      ]
     },
     "metadata": {
      "needs_background": "light"
     },
     "output_type": "display_data"
    }
   ],
   "source": [
    "sns.barplot(x=\"weather2\",y='totalbooking', data=train, color=\"c\")\n",
    "plt.title('Booking to hour Analysis')\n",
    "plt.show()"
   ]
  },
  {
   "cell_type": "code",
   "execution_count": 97,
   "metadata": {},
   "outputs": [
    {
     "data": {
      "image/png": "[encoded data removed]",
      "text/plain": [
       "<Figure size 1152x576 with 1 Axes>"
      ]
     },
     "metadata": {
      "needs_background": "light"
     },
     "output_type": "display_data"
    }
   ],
   "source": [
    "sns.lineplot(x = 'humidity', y  = 'totalbooking', data = train,ci=False,color='y')\n",
    "plt.title('Booking to Humidity Analysis')\n",
    "plt.show()"
   ]
  },
  {
   "cell_type": "code",
   "execution_count": 98,
   "metadata": {},
   "outputs": [
    {
     "data": {
      "image/png": "[encoded data removed]",
      "text/plain": [
       "<Figure size 1152x576 with 1 Axes>"
      ]
     },
     "metadata": {
      "needs_background": "light"
     },
     "output_type": "display_data"
    }
   ],
   "source": [
    "sns.lineplot(x = 'atemp', y = 'totalbooking',data = train,ci=False,color='lime')\n",
    "plt.title('Booking to Actual Temperature Analysis')\n",
    "plt.show()"
   ]
  },
  {
   "cell_type": "code",
   "execution_count": 99,
   "metadata": {},
   "outputs": [
    {
     "data": {
      "image/png": "[encoded data removed]",
      "text/plain": [
       "<Figure size 1152x576 with 1 Axes>"
      ]
     },
     "metadata": {
      "needs_background": "light"
     },
     "output_type": "display_data"
    }
   ],
   "source": [
    "sns.lineplot(x = 'windspeed', y  = 'totalbooking', data = train,ci=False,color='blue')\n",
    "plt.title('Booking to WindspeedAnalysis')\n",
    "plt.show()"
   ]
  },
  {
   "cell_type": "code",
   "execution_count": 100,
   "metadata": {},
   "outputs": [
    {
     "data": {
      "image/png": "[encoded data removed]",
      "text/plain": [
       "<Figure size 360x360 with 1 Axes>"
      ]
     },
     "metadata": {
      "needs_background": "light"
     },
     "output_type": "display_data"
    }
   ],
   "source": [
    "sns.catplot(x='weekday', kind='count', palette='Blues', data=train)\n",
    "plt.title('Booking to Weekday Analysis')\n",
    "plt.show()"
   ]
  },
  {
   "cell_type": "code",
   "execution_count": 101,
   "metadata": {},
   "outputs": [
    {
     "data": {
      "image/png": "[encoded data removed]",
      "text/plain": [
       "<Figure size 1152x576 with 1 Axes>"
      ]
     },
     "metadata": {
      "needs_background": "light"
     },
     "output_type": "display_data"
    }
   ],
   "source": [
    "sns.barplot(x=\"hour\",y='totalbooking', data=train, color=\"lightgreen\")\n",
    "plt.title('Booking to hour Analysis')\n",
    "plt.show()"
   ]
  },
  {
   "cell_type": "markdown",
   "metadata": {},
   "source": [
    "# Encoding the Categorical Variables"
   ]
  },
  {
   "cell_type": "code",
   "execution_count": 102,
   "metadata": {},
   "outputs": [
    {
     "data": {
      "text/html": [
       "<div>\n",
       "<style scoped>\n",
       "    .dataframe tbody tr th:only-of-type {\n",
       "        vertical-align: middle;\n",
       "    }\n",
       "\n",
       "    .dataframe tbody tr th {\n",
       "        vertical-align: top;\n",
       "    }\n",
       "\n",
       "    .dataframe thead th {\n",
       "        text-align: right;\n",
       "    }\n",
       "</style>\n",
       "<table border=\"1\" class=\"dataframe\">\n",
       "  <thead>\n",
       "    <tr style=\"text-align: right;\">\n",
       "      <th></th>\n",
       "      <th>season</th>\n",
       "      <th>atemp</th>\n",
       "      <th>humidity</th>\n",
       "      <th>windspeed</th>\n",
       "      <th>totalbooking</th>\n",
       "      <th>hour</th>\n",
       "      <th>month</th>\n",
       "      <th>weekday</th>\n",
       "      <th>year</th>\n",
       "      <th>weather1</th>\n",
       "      <th>weather2</th>\n",
       "    </tr>\n",
       "  </thead>\n",
       "  <tbody>\n",
       "    <tr>\n",
       "      <th>4354</th>\n",
       "      <td>0</td>\n",
       "      <td>31.820</td>\n",
       "      <td>69</td>\n",
       "      <td>12.9980</td>\n",
       "      <td>62</td>\n",
       "      <td>0</td>\n",
       "      <td>8</td>\n",
       "      <td>4</td>\n",
       "      <td>2011</td>\n",
       "      <td>2</td>\n",
       "      <td>2</td>\n",
       "    </tr>\n",
       "    <tr>\n",
       "      <th>4639</th>\n",
       "      <td>0</td>\n",
       "      <td>26.515</td>\n",
       "      <td>73</td>\n",
       "      <td>6.0032</td>\n",
       "      <td>41</td>\n",
       "      <td>1</td>\n",
       "      <td>9</td>\n",
       "      <td>4</td>\n",
       "      <td>2012</td>\n",
       "      <td>0</td>\n",
       "      <td>1</td>\n",
       "    </tr>\n",
       "    <tr>\n",
       "      <th>315</th>\n",
       "      <td>2</td>\n",
       "      <td>23.485</td>\n",
       "      <td>67</td>\n",
       "      <td>0.0000</td>\n",
       "      <td>65</td>\n",
       "      <td>6</td>\n",
       "      <td>4</td>\n",
       "      <td>1</td>\n",
       "      <td>2011</td>\n",
       "      <td>3</td>\n",
       "      <td>0</td>\n",
       "    </tr>\n",
       "  </tbody>\n",
       "</table>\n",
       "</div>"
      ],
      "text/plain": [
       "      season   atemp  humidity  windspeed  totalbooking  hour  month  weekday  \\\n",
       "4354       0  31.820        69    12.9980            62     0      8        4   \n",
       "4639       0  26.515        73     6.0032            41     1      9        4   \n",
       "315        2  23.485        67     0.0000            65     6      4        1   \n",
       "\n",
       "      year  weather1  weather2  \n",
       "4354  2011         2         2  \n",
       "4639  2012         0         1  \n",
       "315   2011         3         0  "
      ]
     },
     "execution_count": 102,
     "metadata": {},
     "output_type": "execute_result"
    }
   ],
   "source": [
    "label=LabelEncoder()\n",
    "train[['season','weather1','weather2']]=train[['season','weather1','weather2']].apply(label.fit_transform)\n",
    "test[['season','weather1','weather2']]=test[['season','weather1','weather2']].apply(label.fit_transform)\n",
    "train.sample(3)"
   ]
  },
  {
   "cell_type": "code",
   "execution_count": 103,
   "metadata": {},
   "outputs": [],
   "source": [
    "# splitting the independent and target variable\n",
    "x=train.drop('totalbooking',axis=1)\n",
    "Y=train['totalbooking'].values\n",
    "x_test=test.drop('totalbooking',axis=1)\n",
    "Y_test=test['totalbooking'].values"
   ]
  },
  {
   "cell_type": "markdown",
   "metadata": {},
   "source": [
    "# Regression Analysis"
   ]
  },
  {
   "cell_type": "code",
   "execution_count": 104,
   "metadata": {},
   "outputs": [
    {
     "name": "stdout",
     "output_type": "stream",
     "text": [
      "R2_SCORE OF LINEAR REGRESSION    : 0.35\n"
     ]
    }
   ],
   "source": [
    "# linear Regression\n",
    "from sklearn.linear_model import LinearRegression\n",
    "linear_model=LinearRegression()\n",
    "linear_model.fit(x,Y)\n",
    "predl=linear_model.predict(x_test)\n",
    "print('R2_SCORE OF LINEAR REGRESSION    :',np.round(r2_score(Y_test,predl),2))"
   ]
  },
  {
   "cell_type": "code",
   "execution_count": 105,
   "metadata": {},
   "outputs": [
    {
     "name": "stdout",
     "output_type": "stream",
     "text": [
      "R2_SCORE OF DECISION TREE REGRESSOR    : 0.9\n"
     ]
    }
   ],
   "source": [
    "# Decision Tree regression\n",
    "from sklearn.tree import DecisionTreeRegressor\n",
    "tree=DecisionTreeRegressor()\n",
    "tree.fit(x,Y)\n",
    "pred_tree=tree.predict(x_test)\n",
    "print('R2_SCORE OF DECISION TREE REGRESSOR    :',np.round(r2_score(Y_test,pred_tree),2))"
   ]
  },
  {
   "cell_type": "markdown",
   "metadata": {},
   "source": [
    "# Ensemble model"
   ]
  },
  {
   "cell_type": "code",
   "execution_count": 63,
   "metadata": {},
   "outputs": [],
   "source": [
    "from xgboost import XGBRegressor\n",
    "xgb=XGBRegressor(n_jobs=-1)\n",
    "parameters = {'n_estimators':np.arange(80,140,10),'max_depth':np.arange(3,8,1)}\n",
    "xgb = GridSearchCV(xgb,parameters)\n",
    "xgb.fit(x,Y)\n",
    "predx=xgb.predict(x_test)"
   ]
  },
  {
   "cell_type": "code",
   "execution_count": 64,
   "metadata": {},
   "outputs": [
    {
     "data": {
      "text/plain": [
       "{'max_depth': 5, 'n_estimators': 100}"
      ]
     },
     "execution_count": 64,
     "metadata": {},
     "output_type": "execute_result"
    }
   ],
   "source": [
    "# best fitted hyperparameters of the random forest\n",
    "xgb.best_params_"
   ]
  },
  {
   "cell_type": "code",
   "execution_count": 65,
   "metadata": {},
   "outputs": [
    {
     "data": {
      "text/plain": [
       "XGBRegressor(base_score=0.5, booster=None, colsample_bylevel=1,\n",
       "             colsample_bynode=1, colsample_bytree=1, gamma=0, gpu_id=-1,\n",
       "             importance_type='gain', interaction_constraints=None,\n",
       "             learning_rate=0.300000012, max_delta_step=0, max_depth=5,\n",
       "             min_child_weight=1, missing=nan, monotone_constraints=None,\n",
       "             n_estimators=100, n_jobs=-1, num_parallel_tree=1,\n",
       "             objective='reg:squarederror', random_state=0, reg_alpha=0,\n",
       "             reg_lambda=1, scale_pos_weight=1, subsample=1, tree_method=None,\n",
       "             validate_parameters=False, verbosity=None)"
      ]
     },
     "execution_count": 65,
     "metadata": {},
     "output_type": "execute_result"
    }
   ],
   "source": [
    "xgb.best_estimator_"
   ]
  },
  {
   "cell_type": "code",
   "execution_count": 66,
   "metadata": {},
   "outputs": [],
   "source": [
    "r2=r2_score(Y_test,predx)\n",
    "mse=mean_squared_error(Y_test,predx)"
   ]
  },
  {
   "cell_type": "code",
   "execution_count": 67,
   "metadata": {},
   "outputs": [
    {
     "name": "stdout",
     "output_type": "stream",
     "text": [
      "R2_SCORE  : 0.95\n",
      "MSE       : 1223.02\n"
     ]
    }
   ],
   "source": [
    "print('R2_SCORE  :',np.round(r2,2) )\n",
    "print('MSE       :',np.round(mse,2) )"
   ]
  },
  {
   "cell_type": "code",
   "execution_count": null,
   "metadata": {},
   "outputs": [],
   "source": []
  }
 ],
 "metadata": {
  "kernelspec": {
   "display_name": "Python 3",
   "language": "python",
   "name": "python3"
  },
  "language_info": {
   "codemirror_mode": {
    "name": "ipython",
    "version": 3
   },
   "file_extension": ".py",
   "mimetype": "text/x-python",
   "name": "python",
   "nbconvert_exporter": "python",
   "pygments_lexer": "ipython3",
   "version": "3.7.6"
  }
 },
 "nbformat": 4,
 "nbformat_minor": 4
}
